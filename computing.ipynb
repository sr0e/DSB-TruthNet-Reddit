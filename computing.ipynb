{
 "cells": [
  {
   "cell_type": "code",
   "execution_count": 3,
   "id": "6bf617cd-e239-4cc5-9736-f868cb4a83ff",
   "metadata": {
    "tags": []
   },
   "outputs": [],
   "source": [
    "from dotenv import load_dotenv\n",
    "import os\n",
    "import praw\n",
    "import pandas as pd\n",
    "import numpy as np\n",
    "\n",
    "from sklearn.model_selection import train_test_split, GridSearchCV\n",
    "from sklearn.pipeline import Pipeline\n",
    "from sklearn.naive_bayes import MultinomialNB\n",
    "from sklearn.linear_model import LogisticRegression\n",
    "from sklearn.compose import ColumnTransformer\n",
    "from sklearn import metrics\n",
    "\n",
    "from sklearn.feature_extraction.text import CountVectorizer, TfidfVectorizer\n",
    "\n",
    "import nltk\n",
    "from nltk.tokenize import word_tokenize, sent_tokenize, RegexpTokenizer\n",
    "from nltk.corpus import stopwords, wordnet\n",
    "from nltk.stem import PorterStemmer, WordNetLemmatizer\n",
    "from nltk.sentiment.vader import SentimentIntensityAnalyzer"
   ]
  },
  {
   "cell_type": "code",
   "execution_count": 5,
   "id": "675f9a1b-0938-4b7f-a8af-a2983d4b4fc8",
   "metadata": {
    "tags": []
   },
   "outputs": [],
   "source": [
    "news1 = pd.read_csv('data/2024-06-27 15:03:20.894281_news.csv')\n",
    "onion1 = pd.read_csv('data/2024-06-26 16:40:52.902750_onion.csv')"
   ]
  },
  {
   "cell_type": "code",
   "execution_count": 7,
   "id": "f9ecd54d-d5fb-4cf3-99e5-cd1f4b5e3695",
   "metadata": {
    "tags": []
   },
   "outputs": [],
   "source": [
    "news2 = pd.read_csv('data/2024-06-28 15:21:52.863539_news.csv')\n",
    "onion2 = pd.read_csv('data/2024-06-28 15:21:52.863539_onion.csv')"
   ]
  },
  {
   "cell_type": "code",
   "execution_count": 9,
   "id": "7ac6bcfc-f166-43bd-b9d6-e6f2b369fdff",
   "metadata": {
    "tags": []
   },
   "outputs": [],
   "source": [
    "news3 = pd.read_csv('data/2024-07-02 09:23:01.740295_news.csv')\n",
    "onion3 = pd.read_csv('data/2024-07-02 09:23:01.740295_onion.csv')"
   ]
  },
  {
   "cell_type": "code",
   "execution_count": 11,
   "id": "e8bdbd7f-182f-4b29-b50d-e49b0ba87a72",
   "metadata": {
    "tags": []
   },
   "outputs": [],
   "source": [
    "onion1.drop(columns=['Unnamed: 0'], inplace=True)"
   ]
  },
  {
   "cell_type": "code",
   "execution_count": 13,
   "id": "861e189e-3944-437d-8af6-fde751aebf1d",
   "metadata": {
    "tags": []
   },
   "outputs": [],
   "source": [
    "onion = pd.concat([onion1, onion2, onion3])"
   ]
  },
  {
   "cell_type": "code",
   "execution_count": 15,
   "id": "e0d4a469-fe48-4769-b643-108b210aff7b",
   "metadata": {
    "tags": []
   },
   "outputs": [
    {
     "data": {
      "text/plain": [
       "980"
      ]
     },
     "execution_count": 15,
     "metadata": {},
     "output_type": "execute_result"
    }
   ],
   "source": [
    "len(onion['created_utc'].unique())"
   ]
  },
  {
   "cell_type": "code",
   "execution_count": 17,
   "id": "aadd46ff-90b8-4414-84f1-33273ef97159",
   "metadata": {
    "tags": []
   },
   "outputs": [],
   "source": [
    "onion.drop_duplicates('created_utc', inplace=True)"
   ]
  },
  {
   "cell_type": "code",
   "execution_count": 19,
   "id": "b9be6270-efdf-451c-ad21-042b444008f6",
   "metadata": {
    "tags": []
   },
   "outputs": [
    {
     "data": {
      "text/plain": [
       "980"
      ]
     },
     "execution_count": 19,
     "metadata": {},
     "output_type": "execute_result"
    }
   ],
   "source": [
    "len(onion['created_utc'].unique())"
   ]
  },
  {
   "cell_type": "code",
   "execution_count": 21,
   "id": "8a30601c-ba4e-4f0a-a17a-8b767567238e",
   "metadata": {
    "tags": []
   },
   "outputs": [],
   "source": [
    "news1.drop(columns=['Unnamed: 0'], inplace=True)"
   ]
  },
  {
   "cell_type": "code",
   "execution_count": 23,
   "id": "e2ee0bbc-bc93-4b36-b0b1-5e17757b1d37",
   "metadata": {
    "tags": []
   },
   "outputs": [],
   "source": [
    "news = pd.concat([news1, news2, news3])"
   ]
  },
  {
   "cell_type": "code",
   "execution_count": 25,
   "id": "033beef0-76a6-49b4-9f01-3c63a4b058e9",
   "metadata": {
    "tags": []
   },
   "outputs": [
    {
     "data": {
      "text/plain": [
       "1324"
      ]
     },
     "execution_count": 25,
     "metadata": {},
     "output_type": "execute_result"
    }
   ],
   "source": [
    "len(news['created_utc'].unique())"
   ]
  },
  {
   "cell_type": "code",
   "execution_count": 27,
   "id": "ec0224a7-3154-452f-be70-82d01a01f744",
   "metadata": {
    "tags": []
   },
   "outputs": [],
   "source": [
    "news.drop_duplicates('created_utc', inplace=True)"
   ]
  },
  {
   "cell_type": "code",
   "execution_count": 29,
   "id": "71ffc741-99b2-4606-93e2-c5e5768b275e",
   "metadata": {
    "tags": []
   },
   "outputs": [
    {
     "data": {
      "text/plain": [
       "1324"
      ]
     },
     "execution_count": 29,
     "metadata": {},
     "output_type": "execute_result"
    }
   ],
   "source": [
    "len(news['created_utc'].unique())"
   ]
  },
  {
   "cell_type": "code",
   "execution_count": 31,
   "id": "73169697-aa73-4a2b-88a6-eff1c80e8a0e",
   "metadata": {
    "tags": []
   },
   "outputs": [],
   "source": [
    "posts = pd.concat([onion, news])\n",
    "posts['is_onion'] = posts['subreddit'].map({'worldnews': 0, 'TheOnion': 1})"
   ]
  },
  {
   "cell_type": "code",
   "execution_count": 33,
   "id": "de246e7f-7d4d-4abf-a887-943e0362ad31",
   "metadata": {
    "tags": []
   },
   "outputs": [
    {
     "data": {
      "text/plain": [
       "(2304, 5)"
      ]
     },
     "execution_count": 33,
     "metadata": {},
     "output_type": "execute_result"
    }
   ],
   "source": [
    "posts.shape"
   ]
  },
  {
   "cell_type": "code",
   "execution_count": 38,
   "id": "94141110-0f9c-4cd1-a043-30900052079b",
   "metadata": {
    "tags": []
   },
   "outputs": [],
   "source": [
    "posts.to_csv('data/posts.csv')"
   ]
  },
  {
   "cell_type": "code",
   "execution_count": 41,
   "id": "2c81464f-6bd6-4f45-a605-c74e89ae52a7",
   "metadata": {
    "tags": []
   },
   "outputs": [],
   "source": [
    "X = posts['title']\n",
    "y = posts['is_onion']"
   ]
  },
  {
   "cell_type": "code",
   "execution_count": 43,
   "id": "57032f7b-7711-4799-bd38-363dd1e2d067",
   "metadata": {},
   "outputs": [
    {
     "data": {
      "text/plain": [
       "0.5746527777777778"
      ]
     },
     "execution_count": 43,
     "metadata": {},
     "output_type": "execute_result"
    }
   ],
   "source": [
    "1-y.mean()"
   ]
  },
  {
   "cell_type": "code",
   "execution_count": 45,
   "id": "46290c1c-2ece-4f62-b4c3-f0f2986e9c25",
   "metadata": {
    "tags": []
   },
   "outputs": [],
   "source": [
    "X_train, X_test, y_train, y_test = train_test_split(X, y, random_state=42)"
   ]
  },
  {
   "cell_type": "code",
   "execution_count": null,
   "id": "c9706c00-d489-406e-a0c8-9209e95d9981",
   "metadata": {},
   "outputs": [],
   "source": [
    "sw_nltk = stopwords.words('english')\n",
    "cvec = CountVectorizer(\n",
    "    stop_words=sw_nltk,\n",
    "    min_df=3,\n",
    "    ngram_range=(2, 2)\n",
    ")\n",
    "\n",
    "X_train_cv = cvec.fit_transform(X_train)\n",
    "X_test_cv = cvec.transform(X_test)"
   ]
  },
  {
   "cell_type": "code",
   "execution_count": null,
   "id": "cd8d783b-fb6f-497c-8781-d2cb25007905",
   "metadata": {},
   "outputs": [],
   "source": []
  }
 ],
 "metadata": {
  "kernelspec": {
   "display_name": "Python 3 (ipykernel)",
   "language": "python",
   "name": "python3"
  },
  "language_info": {
   "codemirror_mode": {
    "name": "ipython",
    "version": 3
   },
   "file_extension": ".py",
   "mimetype": "text/x-python",
   "name": "python",
   "nbconvert_exporter": "python",
   "pygments_lexer": "ipython3",
   "version": "3.11.7"
  }
 },
 "nbformat": 4,
 "nbformat_minor": 5
}
