{
 "cells": [
  {
   "cell_type": "code",
   "execution_count": 2,
   "id": "6bf617cd-e239-4cc5-9736-f868cb4a83ff",
   "metadata": {
    "tags": []
   },
   "outputs": [],
   "source": [
    "from dotenv import load_dotenv\n",
    "import os\n",
    "import praw\n",
    "import pandas as pd\n",
    "import numpy as np\n",
    "\n",
    "from sklearn.model_selection import train_test_split, GridSearchCV\n",
    "from sklearn.pipeline import Pipeline\n",
    "from sklearn.naive_bayes import MultinomialNB\n",
    "from sklearn.linear_model import LogisticRegression\n",
    "from sklearn import metrics\n",
    "\n",
    "from sklearn.feature_extraction.text import CountVectorizer, TfidfVectorizer\n",
    "\n",
    "import nltk\n",
    "from nltk.tokenize import word_tokenize, sent_tokenize, RegexpTokenizer\n",
    "from nltk.corpus import stopwords, wordnet\n",
    "from nltk.stem import PorterStemmer, WordNetLemmatizer\n",
    "from nltk.sentiment.vader import SentimentIntensityAnalyzer"
   ]
  },
  {
   "cell_type": "code",
   "execution_count": 73,
   "id": "675f9a1b-0938-4b7f-a8af-a2983d4b4fc8",
   "metadata": {
    "tags": []
   },
   "outputs": [],
   "source": [
    "news1 = pd.read_csv('pulling_data/2024-06-27 15:03:20.894281_news.csv')\n",
    "onion1 = pd.read_csv('pulling_data/2024-06-26 16:40:52.902750_onion.csv')"
   ]
  },
  {
   "cell_type": "code",
   "execution_count": 75,
   "id": "f9ecd54d-d5fb-4cf3-99e5-cd1f4b5e3695",
   "metadata": {
    "tags": []
   },
   "outputs": [],
   "source": [
    "news2 = pd.read_csv('pulling_data/2024-06-28 15:21:52.863539_news.csv')\n",
    "onion2 = pd.read_csv('pulling_data/2024-06-28 15:21:52.863539_onion.csv')"
   ]
  },
  {
   "cell_type": "code",
   "execution_count": 77,
   "id": "e8bdbd7f-182f-4b29-b50d-e49b0ba87a72",
   "metadata": {
    "tags": []
   },
   "outputs": [
    {
     "data": {
      "text/html": [
       "<div>\n",
       "<style scoped>\n",
       "    .dataframe tbody tr th:only-of-type {\n",
       "        vertical-align: middle;\n",
       "    }\n",
       "\n",
       "    .dataframe tbody tr th {\n",
       "        vertical-align: top;\n",
       "    }\n",
       "\n",
       "    .dataframe thead th {\n",
       "        text-align: right;\n",
       "    }\n",
       "</style>\n",
       "<table border=\"1\" class=\"dataframe\">\n",
       "  <thead>\n",
       "    <tr style=\"text-align: right;\">\n",
       "      <th></th>\n",
       "      <th>created_utc</th>\n",
       "      <th>title</th>\n",
       "      <th>self_text</th>\n",
       "      <th>subreddit</th>\n",
       "    </tr>\n",
       "  </thead>\n",
       "  <tbody>\n",
       "    <tr>\n",
       "      <th>0</th>\n",
       "      <td>1.719429e+09</td>\n",
       "      <td>The First 2024 Presidential Debate By The Numbers</td>\n",
       "      <td>NaN</td>\n",
       "      <td>TheOnion</td>\n",
       "    </tr>\n",
       "    <tr>\n",
       "      <th>1</th>\n",
       "      <td>1.719429e+09</td>\n",
       "      <td>Naked Man Emerging From Ocean Must Have Just F...</td>\n",
       "      <td>NaN</td>\n",
       "      <td>TheOnion</td>\n",
       "    </tr>\n",
       "    <tr>\n",
       "      <th>2</th>\n",
       "      <td>1.719409e+09</td>\n",
       "      <td>Rafael Nadal Withdraws From Wimbledon To Spend...</td>\n",
       "      <td>NaN</td>\n",
       "      <td>TheOnion</td>\n",
       "    </tr>\n",
       "    <tr>\n",
       "      <th>3</th>\n",
       "      <td>1.719409e+09</td>\n",
       "      <td>British Science Museum Forced To Return Fire E...</td>\n",
       "      <td>NaN</td>\n",
       "      <td>TheOnion</td>\n",
       "    </tr>\n",
       "    <tr>\n",
       "      <th>4</th>\n",
       "      <td>1.719396e+09</td>\n",
       "      <td>Increasingly Isolated Putin Tries Joining Adul...</td>\n",
       "      <td>NaN</td>\n",
       "      <td>TheOnion</td>\n",
       "    </tr>\n",
       "  </tbody>\n",
       "</table>\n",
       "</div>"
      ],
      "text/plain": [
       "    created_utc                                              title self_text  \\\n",
       "0  1.719429e+09  The First 2024 Presidential Debate By The Numbers       NaN   \n",
       "1  1.719429e+09  Naked Man Emerging From Ocean Must Have Just F...       NaN   \n",
       "2  1.719409e+09  Rafael Nadal Withdraws From Wimbledon To Spend...       NaN   \n",
       "3  1.719409e+09  British Science Museum Forced To Return Fire E...       NaN   \n",
       "4  1.719396e+09  Increasingly Isolated Putin Tries Joining Adul...       NaN   \n",
       "\n",
       "  subreddit  \n",
       "0  TheOnion  \n",
       "1  TheOnion  \n",
       "2  TheOnion  \n",
       "3  TheOnion  \n",
       "4  TheOnion  "
      ]
     },
     "execution_count": 77,
     "metadata": {},
     "output_type": "execute_result"
    }
   ],
   "source": [
    "onion1.drop(columns=['Unnamed: 0'], inplace=True)\n",
    "onion1.head()"
   ]
  },
  {
   "cell_type": "code",
   "execution_count": 79,
   "id": "9383a9df-cf40-466c-a766-b7ee14bb3212",
   "metadata": {
    "tags": []
   },
   "outputs": [
    {
     "data": {
      "text/html": [
       "<div>\n",
       "<style scoped>\n",
       "    .dataframe tbody tr th:only-of-type {\n",
       "        vertical-align: middle;\n",
       "    }\n",
       "\n",
       "    .dataframe tbody tr th {\n",
       "        vertical-align: top;\n",
       "    }\n",
       "\n",
       "    .dataframe thead th {\n",
       "        text-align: right;\n",
       "    }\n",
       "</style>\n",
       "<table border=\"1\" class=\"dataframe\">\n",
       "  <thead>\n",
       "    <tr style=\"text-align: right;\">\n",
       "      <th></th>\n",
       "      <th>created_utc</th>\n",
       "      <th>title</th>\n",
       "      <th>self_text</th>\n",
       "      <th>subreddit</th>\n",
       "    </tr>\n",
       "  </thead>\n",
       "  <tbody>\n",
       "    <tr>\n",
       "      <th>0</th>\n",
       "      <td>1.719602e+09</td>\n",
       "      <td>Analysts: Biden Can Negate Debate Performance ...</td>\n",
       "      <td>NaN</td>\n",
       "      <td>TheOnion</td>\n",
       "    </tr>\n",
       "    <tr>\n",
       "      <th>1</th>\n",
       "      <td>1.719602e+09</td>\n",
       "      <td>Eye Contact-Avoiding Biden Administration Stil...</td>\n",
       "      <td>NaN</td>\n",
       "      <td>TheOnion</td>\n",
       "    </tr>\n",
       "    <tr>\n",
       "      <th>2</th>\n",
       "      <td>1.719598e+09</td>\n",
       "      <td>Bam Margera To Spend 6 Months On Probation Aft...</td>\n",
       "      <td>NaN</td>\n",
       "      <td>TheOnion</td>\n",
       "    </tr>\n",
       "    <tr>\n",
       "      <th>3</th>\n",
       "      <td>1.719582e+09</td>\n",
       "      <td>Fact Checking The Trump–Biden Debate On CNN</td>\n",
       "      <td>NaN</td>\n",
       "      <td>TheOnion</td>\n",
       "    </tr>\n",
       "    <tr>\n",
       "      <th>4</th>\n",
       "      <td>1.719582e+09</td>\n",
       "      <td>Report Links Climbing Onto Enormous Index Fing...</td>\n",
       "      <td>NaN</td>\n",
       "      <td>TheOnion</td>\n",
       "    </tr>\n",
       "  </tbody>\n",
       "</table>\n",
       "</div>"
      ],
      "text/plain": [
       "    created_utc                                              title self_text  \\\n",
       "0  1.719602e+09  Analysts: Biden Can Negate Debate Performance ...       NaN   \n",
       "1  1.719602e+09  Eye Contact-Avoiding Biden Administration Stil...       NaN   \n",
       "2  1.719598e+09  Bam Margera To Spend 6 Months On Probation Aft...       NaN   \n",
       "3  1.719582e+09        Fact Checking The Trump–Biden Debate On CNN       NaN   \n",
       "4  1.719582e+09  Report Links Climbing Onto Enormous Index Fing...       NaN   \n",
       "\n",
       "  subreddit  \n",
       "0  TheOnion  \n",
       "1  TheOnion  \n",
       "2  TheOnion  \n",
       "3  TheOnion  \n",
       "4  TheOnion  "
      ]
     },
     "execution_count": 79,
     "metadata": {},
     "output_type": "execute_result"
    }
   ],
   "source": [
    "onion2.head()"
   ]
  },
  {
   "cell_type": "code",
   "execution_count": 81,
   "id": "861e189e-3944-437d-8af6-fde751aebf1d",
   "metadata": {
    "tags": []
   },
   "outputs": [],
   "source": [
    "onion = pd.concat([onion1, onion2])"
   ]
  },
  {
   "cell_type": "code",
   "execution_count": 83,
   "id": "e0d4a469-fe48-4769-b643-108b210aff7b",
   "metadata": {
    "tags": []
   },
   "outputs": [
    {
     "data": {
      "text/plain": [
       "969"
      ]
     },
     "execution_count": 83,
     "metadata": {},
     "output_type": "execute_result"
    }
   ],
   "source": [
    "len(onion['created_utc'].unique())"
   ]
  },
  {
   "cell_type": "code",
   "execution_count": 85,
   "id": "aadd46ff-90b8-4414-84f1-33273ef97159",
   "metadata": {
    "tags": []
   },
   "outputs": [],
   "source": [
    "onion.drop_duplicates('created_utc', inplace=True)"
   ]
  },
  {
   "cell_type": "code",
   "execution_count": 87,
   "id": "b9be6270-efdf-451c-ad21-042b444008f6",
   "metadata": {
    "tags": []
   },
   "outputs": [
    {
     "data": {
      "text/plain": [
       "969"
      ]
     },
     "execution_count": 87,
     "metadata": {},
     "output_type": "execute_result"
    }
   ],
   "source": [
    "len(onion['created_utc'].unique())"
   ]
  },
  {
   "cell_type": "code",
   "execution_count": 89,
   "id": "8a30601c-ba4e-4f0a-a17a-8b767567238e",
   "metadata": {
    "tags": []
   },
   "outputs": [
    {
     "data": {
      "text/html": [
       "<div>\n",
       "<style scoped>\n",
       "    .dataframe tbody tr th:only-of-type {\n",
       "        vertical-align: middle;\n",
       "    }\n",
       "\n",
       "    .dataframe tbody tr th {\n",
       "        vertical-align: top;\n",
       "    }\n",
       "\n",
       "    .dataframe thead th {\n",
       "        text-align: right;\n",
       "    }\n",
       "</style>\n",
       "<table border=\"1\" class=\"dataframe\">\n",
       "  <thead>\n",
       "    <tr style=\"text-align: right;\">\n",
       "      <th></th>\n",
       "      <th>created_utc</th>\n",
       "      <th>title</th>\n",
       "      <th>self_text</th>\n",
       "      <th>subreddit</th>\n",
       "    </tr>\n",
       "  </thead>\n",
       "  <tbody>\n",
       "    <tr>\n",
       "      <th>0</th>\n",
       "      <td>1.719515e+09</td>\n",
       "      <td>Russia Loses Last Black Sea Missile Ship – Put...</td>\n",
       "      <td>NaN</td>\n",
       "      <td>worldnews</td>\n",
       "    </tr>\n",
       "    <tr>\n",
       "      <th>1</th>\n",
       "      <td>1.719514e+09</td>\n",
       "      <td>Nicaragua’s Daniel Ortega establishes diplomat...</td>\n",
       "      <td>NaN</td>\n",
       "      <td>worldnews</td>\n",
       "    </tr>\n",
       "    <tr>\n",
       "      <th>2</th>\n",
       "      <td>1.719511e+09</td>\n",
       "      <td>A Kenyan-led security mission finally starts t...</td>\n",
       "      <td>NaN</td>\n",
       "      <td>worldnews</td>\n",
       "    </tr>\n",
       "    <tr>\n",
       "      <th>3</th>\n",
       "      <td>1.719511e+09</td>\n",
       "      <td>Another Russian satellite broke apart in orbit...</td>\n",
       "      <td>NaN</td>\n",
       "      <td>worldnews</td>\n",
       "    </tr>\n",
       "    <tr>\n",
       "      <th>4</th>\n",
       "      <td>1.719511e+09</td>\n",
       "      <td>ICC allows UK to submit arguments on jurisdict...</td>\n",
       "      <td>NaN</td>\n",
       "      <td>worldnews</td>\n",
       "    </tr>\n",
       "  </tbody>\n",
       "</table>\n",
       "</div>"
      ],
      "text/plain": [
       "    created_utc                                              title  self_text  \\\n",
       "0  1.719515e+09  Russia Loses Last Black Sea Missile Ship – Put...        NaN   \n",
       "1  1.719514e+09  Nicaragua’s Daniel Ortega establishes diplomat...        NaN   \n",
       "2  1.719511e+09  A Kenyan-led security mission finally starts t...        NaN   \n",
       "3  1.719511e+09  Another Russian satellite broke apart in orbit...        NaN   \n",
       "4  1.719511e+09  ICC allows UK to submit arguments on jurisdict...        NaN   \n",
       "\n",
       "   subreddit  \n",
       "0  worldnews  \n",
       "1  worldnews  \n",
       "2  worldnews  \n",
       "3  worldnews  \n",
       "4  worldnews  "
      ]
     },
     "execution_count": 89,
     "metadata": {},
     "output_type": "execute_result"
    }
   ],
   "source": [
    "news1.drop(columns=['Unnamed: 0'], inplace=True)\n",
    "news1.head()"
   ]
  },
  {
   "cell_type": "code",
   "execution_count": 91,
   "id": "86ff88f2-7ced-41fc-88cd-9405fb0fcfca",
   "metadata": {
    "tags": []
   },
   "outputs": [
    {
     "data": {
      "text/html": [
       "<div>\n",
       "<style scoped>\n",
       "    .dataframe tbody tr th:only-of-type {\n",
       "        vertical-align: middle;\n",
       "    }\n",
       "\n",
       "    .dataframe tbody tr th {\n",
       "        vertical-align: top;\n",
       "    }\n",
       "\n",
       "    .dataframe thead th {\n",
       "        text-align: right;\n",
       "    }\n",
       "</style>\n",
       "<table border=\"1\" class=\"dataframe\">\n",
       "  <thead>\n",
       "    <tr style=\"text-align: right;\">\n",
       "      <th></th>\n",
       "      <th>created_utc</th>\n",
       "      <th>title</th>\n",
       "      <th>self_text</th>\n",
       "      <th>subreddit</th>\n",
       "    </tr>\n",
       "  </thead>\n",
       "  <tbody>\n",
       "    <tr>\n",
       "      <th>0</th>\n",
       "      <td>1.719602e+09</td>\n",
       "      <td>Kremlin labels new EU chief diplomat ''rabidly...</td>\n",
       "      <td>NaN</td>\n",
       "      <td>worldnews</td>\n",
       "    </tr>\n",
       "    <tr>\n",
       "      <th>1</th>\n",
       "      <td>1.719599e+09</td>\n",
       "      <td>Russia blames US for Crimea deaths and vows re...</td>\n",
       "      <td>NaN</td>\n",
       "      <td>worldnews</td>\n",
       "    </tr>\n",
       "    <tr>\n",
       "      <th>2</th>\n",
       "      <td>1.719599e+09</td>\n",
       "      <td>After Oil, Russia May Now Be Building a Shadow...</td>\n",
       "      <td>NaN</td>\n",
       "      <td>worldnews</td>\n",
       "    </tr>\n",
       "    <tr>\n",
       "      <th>3</th>\n",
       "      <td>1.719598e+09</td>\n",
       "      <td>French journalist describes India’s permit den...</td>\n",
       "      <td>NaN</td>\n",
       "      <td>worldnews</td>\n",
       "    </tr>\n",
       "    <tr>\n",
       "      <th>4</th>\n",
       "      <td>1.719598e+09</td>\n",
       "      <td>Azerbaijan to hold snap parliamentary election...</td>\n",
       "      <td>NaN</td>\n",
       "      <td>worldnews</td>\n",
       "    </tr>\n",
       "  </tbody>\n",
       "</table>\n",
       "</div>"
      ],
      "text/plain": [
       "    created_utc                                              title  self_text  \\\n",
       "0  1.719602e+09  Kremlin labels new EU chief diplomat ''rabidly...        NaN   \n",
       "1  1.719599e+09  Russia blames US for Crimea deaths and vows re...        NaN   \n",
       "2  1.719599e+09  After Oil, Russia May Now Be Building a Shadow...        NaN   \n",
       "3  1.719598e+09  French journalist describes India’s permit den...        NaN   \n",
       "4  1.719598e+09  Azerbaijan to hold snap parliamentary election...        NaN   \n",
       "\n",
       "   subreddit  \n",
       "0  worldnews  \n",
       "1  worldnews  \n",
       "2  worldnews  \n",
       "3  worldnews  \n",
       "4  worldnews  "
      ]
     },
     "execution_count": 91,
     "metadata": {},
     "output_type": "execute_result"
    }
   ],
   "source": [
    "news2.head()"
   ]
  },
  {
   "cell_type": "code",
   "execution_count": 93,
   "id": "e2ee0bbc-bc93-4b36-b0b1-5e17757b1d37",
   "metadata": {
    "tags": []
   },
   "outputs": [],
   "source": [
    "news = pd.concat([news1, news2])"
   ]
  },
  {
   "cell_type": "code",
   "execution_count": 95,
   "id": "033beef0-76a6-49b4-9f01-3c63a4b058e9",
   "metadata": {
    "tags": []
   },
   "outputs": [
    {
     "data": {
      "text/plain": [
       "988"
      ]
     },
     "execution_count": 95,
     "metadata": {},
     "output_type": "execute_result"
    }
   ],
   "source": [
    "len(news['created_utc'].unique())"
   ]
  },
  {
   "cell_type": "code",
   "execution_count": 97,
   "id": "ec0224a7-3154-452f-be70-82d01a01f744",
   "metadata": {
    "tags": []
   },
   "outputs": [],
   "source": [
    "news.drop_duplicates('created_utc', inplace=True)"
   ]
  },
  {
   "cell_type": "code",
   "execution_count": 99,
   "id": "71ffc741-99b2-4606-93e2-c5e5768b275e",
   "metadata": {
    "tags": []
   },
   "outputs": [
    {
     "data": {
      "text/plain": [
       "988"
      ]
     },
     "execution_count": 99,
     "metadata": {},
     "output_type": "execute_result"
    }
   ],
   "source": [
    "len(news['created_utc'].unique())"
   ]
  },
  {
   "cell_type": "code",
   "execution_count": 101,
   "id": "73169697-aa73-4a2b-88a6-eff1c80e8a0e",
   "metadata": {
    "tags": []
   },
   "outputs": [],
   "source": [
    "posts = pd.concat([onion, news])\n",
    "posts['is_onion'] = posts['subreddit'].map({'worldnews': 0, 'TheOnion': 1})"
   ]
  },
  {
   "cell_type": "code",
   "execution_count": 105,
   "id": "de246e7f-7d4d-4abf-a887-943e0362ad31",
   "metadata": {
    "tags": []
   },
   "outputs": [
    {
     "data": {
      "text/plain": [
       "(1957, 5)"
      ]
     },
     "execution_count": 105,
     "metadata": {},
     "output_type": "execute_result"
    }
   ],
   "source": [
    "posts.shape"
   ]
  },
  {
   "cell_type": "code",
   "execution_count": 109,
   "id": "94141110-0f9c-4cd1-a043-30900052079b",
   "metadata": {
    "tags": []
   },
   "outputs": [],
   "source": [
    "posts.to_csv('data/posts.csv')"
   ]
  },
  {
   "cell_type": "code",
   "execution_count": 69,
   "id": "2c81464f-6bd6-4f45-a605-c74e89ae52a7",
   "metadata": {
    "tags": []
   },
   "outputs": [],
   "source": [
    "X = posts['title']\n",
    "y = posts['is_onion']"
   ]
  },
  {
   "cell_type": "code",
   "execution_count": null,
   "id": "57032f7b-7711-4799-bd38-363dd1e2d067",
   "metadata": {},
   "outputs": [],
   "source": []
  }
 ],
 "metadata": {
  "kernelspec": {
   "display_name": "Python 3 (ipykernel)",
   "language": "python",
   "name": "python3"
  },
  "language_info": {
   "codemirror_mode": {
    "name": "ipython",
    "version": 3
   },
   "file_extension": ".py",
   "mimetype": "text/x-python",
   "name": "python",
   "nbconvert_exporter": "python",
   "pygments_lexer": "ipython3",
   "version": "3.11.7"
  }
 },
 "nbformat": 4,
 "nbformat_minor": 5
}
