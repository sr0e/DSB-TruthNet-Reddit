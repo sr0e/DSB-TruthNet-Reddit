{
 "cells": [
  {
   "cell_type": "code",
   "execution_count": 54,
   "id": "6bf617cd-e239-4cc5-9736-f868cb4a83ff",
   "metadata": {
    "tags": []
   },
   "outputs": [],
   "source": [
    "from dotenv import load_dotenv\n",
    "import os\n",
    "import praw\n",
    "import pandas as pd\n",
    "import numpy as np\n",
    "\n",
    "from sklearn.model_selection import train_test_split, GridSearchCV\n",
    "from sklearn.pipeline import Pipeline\n",
    "from sklearn.naive_bayes import MultinomialNB\n",
    "from sklearn.linear_model import LogisticRegression\n",
    "from sklearn import metrics\n",
    "\n",
    "from sklearn.feature_extraction.text import CountVectorizer, TfidfVectorizer\n",
    "\n",
    "import nltk\n",
    "from nltk.tokenize import word_tokenize, sent_tokenize, RegexpTokenizer\n",
    "from nltk.corpus import stopwords, wordnet\n",
    "from nltk.stem import PorterStemmer, WordNetLemmatizer\n",
    "from nltk.sentiment.vader import SentimentIntensityAnalyzer"
   ]
  },
  {
   "cell_type": "code",
   "execution_count": 40,
   "id": "675f9a1b-0938-4b7f-a8af-a2983d4b4fc8",
   "metadata": {
    "tags": []
   },
   "outputs": [],
   "source": [
    "news = pd.read_csv('pulling_data/2024-06-27 15:03:20.894281_news.csv')\n",
    "onion = pd.read_csv('pulling_data/2024-06-26 16:40:52.902750_onion.csv')"
   ]
  },
  {
   "cell_type": "code",
   "execution_count": 42,
   "id": "e8bdbd7f-182f-4b29-b50d-e49b0ba87a72",
   "metadata": {
    "tags": []
   },
   "outputs": [
    {
     "data": {
      "text/html": [
       "<div>\n",
       "<style scoped>\n",
       "    .dataframe tbody tr th:only-of-type {\n",
       "        vertical-align: middle;\n",
       "    }\n",
       "\n",
       "    .dataframe tbody tr th {\n",
       "        vertical-align: top;\n",
       "    }\n",
       "\n",
       "    .dataframe thead th {\n",
       "        text-align: right;\n",
       "    }\n",
       "</style>\n",
       "<table border=\"1\" class=\"dataframe\">\n",
       "  <thead>\n",
       "    <tr style=\"text-align: right;\">\n",
       "      <th></th>\n",
       "      <th>created_utc</th>\n",
       "      <th>title</th>\n",
       "      <th>self_text</th>\n",
       "      <th>subreddit</th>\n",
       "    </tr>\n",
       "  </thead>\n",
       "  <tbody>\n",
       "    <tr>\n",
       "      <th>0</th>\n",
       "      <td>1.719429e+09</td>\n",
       "      <td>The First 2024 Presidential Debate By The Numbers</td>\n",
       "      <td>NaN</td>\n",
       "      <td>TheOnion</td>\n",
       "    </tr>\n",
       "    <tr>\n",
       "      <th>1</th>\n",
       "      <td>1.719429e+09</td>\n",
       "      <td>Naked Man Emerging From Ocean Must Have Just F...</td>\n",
       "      <td>NaN</td>\n",
       "      <td>TheOnion</td>\n",
       "    </tr>\n",
       "    <tr>\n",
       "      <th>2</th>\n",
       "      <td>1.719409e+09</td>\n",
       "      <td>Rafael Nadal Withdraws From Wimbledon To Spend...</td>\n",
       "      <td>NaN</td>\n",
       "      <td>TheOnion</td>\n",
       "    </tr>\n",
       "    <tr>\n",
       "      <th>3</th>\n",
       "      <td>1.719409e+09</td>\n",
       "      <td>British Science Museum Forced To Return Fire E...</td>\n",
       "      <td>NaN</td>\n",
       "      <td>TheOnion</td>\n",
       "    </tr>\n",
       "    <tr>\n",
       "      <th>4</th>\n",
       "      <td>1.719396e+09</td>\n",
       "      <td>Increasingly Isolated Putin Tries Joining Adul...</td>\n",
       "      <td>NaN</td>\n",
       "      <td>TheOnion</td>\n",
       "    </tr>\n",
       "  </tbody>\n",
       "</table>\n",
       "</div>"
      ],
      "text/plain": [
       "    created_utc                                              title self_text  \\\n",
       "0  1.719429e+09  The First 2024 Presidential Debate By The Numbers       NaN   \n",
       "1  1.719429e+09  Naked Man Emerging From Ocean Must Have Just F...       NaN   \n",
       "2  1.719409e+09  Rafael Nadal Withdraws From Wimbledon To Spend...       NaN   \n",
       "3  1.719409e+09  British Science Museum Forced To Return Fire E...       NaN   \n",
       "4  1.719396e+09  Increasingly Isolated Putin Tries Joining Adul...       NaN   \n",
       "\n",
       "  subreddit  \n",
       "0  TheOnion  \n",
       "1  TheOnion  \n",
       "2  TheOnion  \n",
       "3  TheOnion  \n",
       "4  TheOnion  "
      ]
     },
     "execution_count": 42,
     "metadata": {},
     "output_type": "execute_result"
    }
   ],
   "source": [
    "onion.drop(columns=['Unnamed: 0'], inplace=True)\n",
    "onion.head()"
   ]
  },
  {
   "cell_type": "code",
   "execution_count": 44,
   "id": "8a30601c-ba4e-4f0a-a17a-8b767567238e",
   "metadata": {
    "tags": []
   },
   "outputs": [
    {
     "data": {
      "text/html": [
       "<div>\n",
       "<style scoped>\n",
       "    .dataframe tbody tr th:only-of-type {\n",
       "        vertical-align: middle;\n",
       "    }\n",
       "\n",
       "    .dataframe tbody tr th {\n",
       "        vertical-align: top;\n",
       "    }\n",
       "\n",
       "    .dataframe thead th {\n",
       "        text-align: right;\n",
       "    }\n",
       "</style>\n",
       "<table border=\"1\" class=\"dataframe\">\n",
       "  <thead>\n",
       "    <tr style=\"text-align: right;\">\n",
       "      <th></th>\n",
       "      <th>created_utc</th>\n",
       "      <th>title</th>\n",
       "      <th>subreddit</th>\n",
       "    </tr>\n",
       "  </thead>\n",
       "  <tbody>\n",
       "    <tr>\n",
       "      <th>0</th>\n",
       "      <td>1.719515e+09</td>\n",
       "      <td>Russia Loses Last Black Sea Missile Ship – Put...</td>\n",
       "      <td>worldnews</td>\n",
       "    </tr>\n",
       "    <tr>\n",
       "      <th>1</th>\n",
       "      <td>1.719514e+09</td>\n",
       "      <td>Nicaragua’s Daniel Ortega establishes diplomat...</td>\n",
       "      <td>worldnews</td>\n",
       "    </tr>\n",
       "    <tr>\n",
       "      <th>2</th>\n",
       "      <td>1.719511e+09</td>\n",
       "      <td>A Kenyan-led security mission finally starts t...</td>\n",
       "      <td>worldnews</td>\n",
       "    </tr>\n",
       "    <tr>\n",
       "      <th>3</th>\n",
       "      <td>1.719511e+09</td>\n",
       "      <td>Another Russian satellite broke apart in orbit...</td>\n",
       "      <td>worldnews</td>\n",
       "    </tr>\n",
       "    <tr>\n",
       "      <th>4</th>\n",
       "      <td>1.719511e+09</td>\n",
       "      <td>ICC allows UK to submit arguments on jurisdict...</td>\n",
       "      <td>worldnews</td>\n",
       "    </tr>\n",
       "  </tbody>\n",
       "</table>\n",
       "</div>"
      ],
      "text/plain": [
       "    created_utc                                              title  subreddit\n",
       "0  1.719515e+09  Russia Loses Last Black Sea Missile Ship – Put...  worldnews\n",
       "1  1.719514e+09  Nicaragua’s Daniel Ortega establishes diplomat...  worldnews\n",
       "2  1.719511e+09  A Kenyan-led security mission finally starts t...  worldnews\n",
       "3  1.719511e+09  Another Russian satellite broke apart in orbit...  worldnews\n",
       "4  1.719511e+09  ICC allows UK to submit arguments on jurisdict...  worldnews"
      ]
     },
     "execution_count": 44,
     "metadata": {},
     "output_type": "execute_result"
    }
   ],
   "source": [
    "news.drop(columns=['Unnamed: 0', 'self_text'], inplace=True)\n",
    "news.head()"
   ]
  },
  {
   "cell_type": "code",
   "execution_count": 56,
   "id": "73169697-aa73-4a2b-88a6-eff1c80e8a0e",
   "metadata": {
    "tags": []
   },
   "outputs": [],
   "source": [
    "posts = pd.concat([onion, news])\n",
    "posts['is_onion'] = posts['subreddit'].map({'worldnews': 0, 'TheOnion': 1})"
   ]
  },
  {
   "cell_type": "code",
   "execution_count": 58,
   "id": "2c81464f-6bd6-4f45-a605-c74e89ae52a7",
   "metadata": {
    "tags": []
   },
   "outputs": [],
   "source": [
    "X = posts['title']\n",
    "y = posts['is_onion']"
   ]
  },
  {
   "cell_type": "code",
   "execution_count": null,
   "id": "57032f7b-7711-4799-bd38-363dd1e2d067",
   "metadata": {},
   "outputs": [],
   "source": []
  }
 ],
 "metadata": {
  "kernelspec": {
   "display_name": "Python 3 (ipykernel)",
   "language": "python",
   "name": "python3"
  },
  "language_info": {
   "codemirror_mode": {
    "name": "ipython",
    "version": 3
   },
   "file_extension": ".py",
   "mimetype": "text/x-python",
   "name": "python",
   "nbconvert_exporter": "python",
   "pygments_lexer": "ipython3",
   "version": "3.11.7"
  }
 },
 "nbformat": 4,
 "nbformat_minor": 5
}
