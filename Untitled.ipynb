{
 "cells": [
  {
   "cell_type": "code",
   "execution_count": 1,
   "id": "cac3e125-b1b4-47f7-a876-7f6c5574857a",
   "metadata": {
    "tags": []
   },
   "outputs": [],
   "source": [
    "from dotenv import load_dotenv\n",
    "import os\n"
   ]
  },
  {
   "cell_type": "code",
   "execution_count": 3,
   "id": "d3c67682-85b0-47e7-bc6c-25c24f3b7f69",
   "metadata": {
    "tags": []
   },
   "outputs": [
    {
     "data": {
      "text/plain": [
       "True"
      ]
     },
     "execution_count": 3,
     "metadata": {},
     "output_type": "execute_result"
    }
   ],
   "source": [
    "load_dotenv()"
   ]
  },
  {
   "cell_type": "code",
   "execution_count": 5,
   "id": "ad5e62ae-fc7e-4c5e-bebf-566aa6e21dc1",
   "metadata": {
    "tags": []
   },
   "outputs": [],
   "source": [
    "password = os.getenv('PASSWORD')"
   ]
  },
  {
   "cell_type": "code",
   "execution_count": 7,
   "id": "4a022fa9-489d-44a3-bcc1-1516500388bf",
   "metadata": {
    "tags": []
   },
   "outputs": [],
   "source": [
    "password"
   ]
  },
  {
   "cell_type": "code",
   "execution_count": null,
   "id": "dcaa7043-227f-4fa3-b7b4-6860f9c1dff9",
   "metadata": {},
   "outputs": [],
   "source": []
  }
 ],
 "metadata": {
  "kernelspec": {
   "display_name": "Python 3 (ipykernel)",
   "language": "python",
   "name": "python3"
  },
  "language_info": {
   "codemirror_mode": {
    "name": "ipython",
    "version": 3
   },
   "file_extension": ".py",
   "mimetype": "text/x-python",
   "name": "python",
   "nbconvert_exporter": "python",
   "pygments_lexer": "ipython3",
   "version": "3.11.7"
  }
 },
 "nbformat": 4,
 "nbformat_minor": 5
}
