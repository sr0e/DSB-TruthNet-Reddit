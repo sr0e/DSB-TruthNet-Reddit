{
 "cells": [
  {
   "cell_type": "code",
   "execution_count": 2,
   "id": "cac3e125-b1b4-47f7-a876-7f6c5574857a",
   "metadata": {
    "tags": []
   },
   "outputs": [
    {
     "data": {
      "text/plain": [
       "'20240628-1521'"
      ]
     },
     "execution_count": 2,
     "metadata": {},
     "output_type": "execute_result"
    }
   ],
   "source": [
    "from dotenv import load_dotenv\n",
    "import os\n",
    "import praw\n",
    "import pandas as pd\n",
    "import numpy as np\n",
    "import datetime\n",
    "now = datetime.datetime.now()\n",
    "now.strftime('%Y%m%d-%H%M')"
   ]
  },
  {
   "cell_type": "code",
   "execution_count": 41,
   "id": "0cac927e-8bb8-4a40-82a4-759f9efe702e",
   "metadata": {
    "tags": []
   },
   "outputs": [],
   "source": [
    "if not os.path.exists('data'):\n",
    "    os.mkdir('data')"
   ]
  },
  {
   "cell_type": "code",
   "execution_count": 6,
   "id": "d3c67682-85b0-47e7-bc6c-25c24f3b7f69",
   "metadata": {
    "tags": []
   },
   "outputs": [
    {
     "data": {
      "text/plain": [
       "True"
      ]
     },
     "execution_count": 6,
     "metadata": {},
     "output_type": "execute_result"
    }
   ],
   "source": [
    "load_dotenv()"
   ]
  },
  {
   "cell_type": "code",
   "execution_count": 8,
   "id": "ad5e62ae-fc7e-4c5e-bebf-566aa6e21dc1",
   "metadata": {
    "tags": []
   },
   "outputs": [],
   "source": [
    "client_id = os.getenv('CLIENT_ID')\n",
    "client_secret = os.getenv('CLIENT_SECRET')\n",
    "username = os.getenv('USERNAME')\n",
    "password = os.getenv('PASSWORD')"
   ]
  },
  {
   "cell_type": "code",
   "execution_count": 10,
   "id": "cdb70cb7-e58d-402b-8e90-f863c8c9e973",
   "metadata": {},
   "outputs": [],
   "source": [
    "reddit = praw.Reddit(\n",
    "    client_id=client_id,\n",
    "    client_secret=client_secret,\n",
    "    user_agent='Python Project 3',\n",
    "    username=username,\n",
    "    password=password\n",
    ")"
   ]
  },
  {
   "cell_type": "code",
   "execution_count": 12,
   "id": "bfab5f69-a252-4f45-8131-26bd3b32a9f4",
   "metadata": {},
   "outputs": [],
   "source": [
    "onion = reddit.subreddit('TheOnion')"
   ]
  },
  {
   "cell_type": "code",
   "execution_count": 14,
   "id": "5f908b2a-1a3e-4eea-9fe6-771c6f3910a2",
   "metadata": {
    "tags": []
   },
   "outputs": [
    {
     "data": {
      "text/plain": [
       "'TheOnion'"
      ]
     },
     "execution_count": 14,
     "metadata": {},
     "output_type": "execute_result"
    }
   ],
   "source": [
    "onion.display_name"
   ]
  },
  {
   "cell_type": "code",
   "execution_count": 16,
   "id": "e84b6a7e-3eba-473d-8d25-de022c9b496d",
   "metadata": {},
   "outputs": [],
   "source": [
    "onion_posts = onion.new(limit=1000)"
   ]
  },
  {
   "cell_type": "code",
   "execution_count": 18,
   "id": "15d9a8fb-b3d5-4b36-9b5e-8aded00da84f",
   "metadata": {
    "tags": []
   },
   "outputs": [
    {
     "data": {
      "text/html": [
       "<div>\n",
       "<style scoped>\n",
       "    .dataframe tbody tr th:only-of-type {\n",
       "        vertical-align: middle;\n",
       "    }\n",
       "\n",
       "    .dataframe tbody tr th {\n",
       "        vertical-align: top;\n",
       "    }\n",
       "\n",
       "    .dataframe thead th {\n",
       "        text-align: right;\n",
       "    }\n",
       "</style>\n",
       "<table border=\"1\" class=\"dataframe\">\n",
       "  <thead>\n",
       "    <tr style=\"text-align: right;\">\n",
       "      <th></th>\n",
       "      <th>created_utc</th>\n",
       "      <th>title</th>\n",
       "      <th>self_text</th>\n",
       "      <th>subreddit</th>\n",
       "    </tr>\n",
       "  </thead>\n",
       "  <tbody>\n",
       "    <tr>\n",
       "      <th>0</th>\n",
       "      <td>1.719602e+09</td>\n",
       "      <td>Analysts: Biden Can Negate Debate Performance ...</td>\n",
       "      <td></td>\n",
       "      <td>TheOnion</td>\n",
       "    </tr>\n",
       "    <tr>\n",
       "      <th>1</th>\n",
       "      <td>1.719602e+09</td>\n",
       "      <td>Eye Contact-Avoiding Biden Administration Stil...</td>\n",
       "      <td></td>\n",
       "      <td>TheOnion</td>\n",
       "    </tr>\n",
       "    <tr>\n",
       "      <th>2</th>\n",
       "      <td>1.719598e+09</td>\n",
       "      <td>Bam Margera To Spend 6 Months On Probation Aft...</td>\n",
       "      <td></td>\n",
       "      <td>TheOnion</td>\n",
       "    </tr>\n",
       "    <tr>\n",
       "      <th>3</th>\n",
       "      <td>1.719582e+09</td>\n",
       "      <td>Fact Checking The Trump–Biden Debate On CNN</td>\n",
       "      <td></td>\n",
       "      <td>TheOnion</td>\n",
       "    </tr>\n",
       "    <tr>\n",
       "      <th>4</th>\n",
       "      <td>1.719582e+09</td>\n",
       "      <td>Report Links Climbing Onto Enormous Index Fing...</td>\n",
       "      <td></td>\n",
       "      <td>TheOnion</td>\n",
       "    </tr>\n",
       "  </tbody>\n",
       "</table>\n",
       "</div>"
      ],
      "text/plain": [
       "    created_utc                                              title self_text  \\\n",
       "0  1.719602e+09  Analysts: Biden Can Negate Debate Performance ...             \n",
       "1  1.719602e+09  Eye Contact-Avoiding Biden Administration Stil...             \n",
       "2  1.719598e+09  Bam Margera To Spend 6 Months On Probation Aft...             \n",
       "3  1.719582e+09        Fact Checking The Trump–Biden Debate On CNN             \n",
       "4  1.719582e+09  Report Links Climbing Onto Enormous Index Fing...             \n",
       "\n",
       "  subreddit  \n",
       "0  TheOnion  \n",
       "1  TheOnion  \n",
       "2  TheOnion  \n",
       "3  TheOnion  \n",
       "4  TheOnion  "
      ]
     },
     "execution_count": 18,
     "metadata": {},
     "output_type": "execute_result"
    }
   ],
   "source": [
    "data = []\n",
    "for post in onion_posts:\n",
    "    data.append([post.created_utc, post.title, post.selftext, post.subreddit])\n",
    "\n",
    "# Turn into a dataframe\n",
    "onion_df = pd.DataFrame(data, columns = ['created_utc', 'title', 'self_text', 'subreddit'])\n",
    "onion_df.head()"
   ]
  },
  {
   "cell_type": "code",
   "execution_count": 37,
   "id": "eadb5607-f354-4dee-b354-efdec5254173",
   "metadata": {
    "tags": []
   },
   "outputs": [],
   "source": [
    "onion_df.to_csv(f'data/{now}_onion.csv', index=False)"
   ]
  },
  {
   "cell_type": "code",
   "execution_count": null,
   "id": "e627813c-02fc-4315-b2e3-0ed8e04f6485",
   "metadata": {},
   "outputs": [],
   "source": []
  },
  {
   "cell_type": "code",
   "execution_count": null,
   "id": "ca9bef03-d4dd-479b-a4f0-ecf38de842cc",
   "metadata": {},
   "outputs": [],
   "source": []
  },
  {
   "cell_type": "code",
   "execution_count": null,
   "id": "07469991-8ed0-4d61-9491-49fec987c21e",
   "metadata": {},
   "outputs": [],
   "source": []
  },
  {
   "cell_type": "code",
   "execution_count": null,
   "id": "25846bc7-c07b-4ae1-aa55-c776da62c0c2",
   "metadata": {},
   "outputs": [],
   "source": []
  },
  {
   "cell_type": "code",
   "execution_count": null,
   "id": "736fb060-50c9-4268-80e1-3ed99183fecc",
   "metadata": {},
   "outputs": [],
   "source": []
  },
  {
   "cell_type": "code",
   "execution_count": null,
   "id": "4b2e1eca-f3a4-4bc4-9d3d-cb0aff465eac",
   "metadata": {},
   "outputs": [],
   "source": []
  },
  {
   "cell_type": "code",
   "execution_count": 22,
   "id": "b0033de7-cbe3-4066-b1e0-01753f843cdf",
   "metadata": {
    "tags": []
   },
   "outputs": [],
   "source": [
    "news = reddit.subreddit('worldnews')\n",
    "news_posts = news.new(limit=1000)"
   ]
  },
  {
   "cell_type": "code",
   "execution_count": 24,
   "id": "495489af-8ece-48cf-bee8-92ac04ec9910",
   "metadata": {
    "tags": []
   },
   "outputs": [
    {
     "data": {
      "text/html": [
       "<div>\n",
       "<style scoped>\n",
       "    .dataframe tbody tr th:only-of-type {\n",
       "        vertical-align: middle;\n",
       "    }\n",
       "\n",
       "    .dataframe tbody tr th {\n",
       "        vertical-align: top;\n",
       "    }\n",
       "\n",
       "    .dataframe thead th {\n",
       "        text-align: right;\n",
       "    }\n",
       "</style>\n",
       "<table border=\"1\" class=\"dataframe\">\n",
       "  <thead>\n",
       "    <tr style=\"text-align: right;\">\n",
       "      <th></th>\n",
       "      <th>created_utc</th>\n",
       "      <th>title</th>\n",
       "      <th>self_text</th>\n",
       "      <th>subreddit</th>\n",
       "    </tr>\n",
       "  </thead>\n",
       "  <tbody>\n",
       "    <tr>\n",
       "      <th>0</th>\n",
       "      <td>1.719602e+09</td>\n",
       "      <td>Kremlin labels new EU chief diplomat ''rabidly...</td>\n",
       "      <td></td>\n",
       "      <td>worldnews</td>\n",
       "    </tr>\n",
       "    <tr>\n",
       "      <th>1</th>\n",
       "      <td>1.719599e+09</td>\n",
       "      <td>Russia blames US for Crimea deaths and vows re...</td>\n",
       "      <td></td>\n",
       "      <td>worldnews</td>\n",
       "    </tr>\n",
       "    <tr>\n",
       "      <th>2</th>\n",
       "      <td>1.719599e+09</td>\n",
       "      <td>After Oil, Russia May Now Be Building a Shadow...</td>\n",
       "      <td></td>\n",
       "      <td>worldnews</td>\n",
       "    </tr>\n",
       "    <tr>\n",
       "      <th>3</th>\n",
       "      <td>1.719598e+09</td>\n",
       "      <td>French journalist describes India’s permit den...</td>\n",
       "      <td></td>\n",
       "      <td>worldnews</td>\n",
       "    </tr>\n",
       "    <tr>\n",
       "      <th>4</th>\n",
       "      <td>1.719598e+09</td>\n",
       "      <td>Azerbaijan to hold snap parliamentary election...</td>\n",
       "      <td></td>\n",
       "      <td>worldnews</td>\n",
       "    </tr>\n",
       "  </tbody>\n",
       "</table>\n",
       "</div>"
      ],
      "text/plain": [
       "    created_utc                                              title self_text  \\\n",
       "0  1.719602e+09  Kremlin labels new EU chief diplomat ''rabidly...             \n",
       "1  1.719599e+09  Russia blames US for Crimea deaths and vows re...             \n",
       "2  1.719599e+09  After Oil, Russia May Now Be Building a Shadow...             \n",
       "3  1.719598e+09  French journalist describes India’s permit den...             \n",
       "4  1.719598e+09  Azerbaijan to hold snap parliamentary election...             \n",
       "\n",
       "   subreddit  \n",
       "0  worldnews  \n",
       "1  worldnews  \n",
       "2  worldnews  \n",
       "3  worldnews  \n",
       "4  worldnews  "
      ]
     },
     "execution_count": 24,
     "metadata": {},
     "output_type": "execute_result"
    }
   ],
   "source": [
    "data_news = []\n",
    "for post in news_posts:\n",
    "    data_news.append([post.created_utc, post.title, post.selftext, post.subreddit])\n",
    "\n",
    "# Turn into a dataframe\n",
    "news_df = pd.DataFrame(data_news, columns = ['created_utc', 'title', 'self_text', 'subreddit'])\n",
    "news_df.head()"
   ]
  },
  {
   "cell_type": "code",
   "execution_count": 34,
   "id": "7b089ad5-f935-4fec-a380-58f3aa109f64",
   "metadata": {
    "tags": []
   },
   "outputs": [],
   "source": [
    "news_df.to_csv(f'data/{now}_news.csv', index=False)"
   ]
  },
  {
   "cell_type": "code",
   "execution_count": null,
   "id": "6859ef2a-0ffb-45db-bed3-15d6f9b0dc71",
   "metadata": {},
   "outputs": [],
   "source": []
  }
 ],
 "metadata": {
  "kernelspec": {
   "display_name": "Python 3 (ipykernel)",
   "language": "python",
   "name": "python3"
  },
  "language_info": {
   "codemirror_mode": {
    "name": "ipython",
    "version": 3
   },
   "file_extension": ".py",
   "mimetype": "text/x-python",
   "name": "python",
   "nbconvert_exporter": "python",
   "pygments_lexer": "ipython3",
   "version": "3.11.7"
  }
 },
 "nbformat": 4,
 "nbformat_minor": 5
}
