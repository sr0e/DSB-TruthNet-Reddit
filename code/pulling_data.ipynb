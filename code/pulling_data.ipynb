{
 "cells": [
  {
   "cell_type": "code",
   "execution_count": 6,
   "id": "cac3e125-b1b4-47f7-a876-7f6c5574857a",
   "metadata": {
    "tags": []
   },
   "outputs": [
    {
     "data": {
      "text/plain": [
       "'20240709-2121'"
      ]
     },
     "execution_count": 6,
     "metadata": {},
     "output_type": "execute_result"
    }
   ],
   "source": [
    "from dotenv import load_dotenv\n",
    "import os\n",
    "import praw\n",
    "import pandas as pd\n",
    "import numpy as np\n",
    "import datetime\n",
    "now = datetime.datetime.now()\n",
    "now.strftime('%Y%m%d-%H%M')"
   ]
  },
  {
   "cell_type": "code",
   "execution_count": 8,
   "id": "0cac927e-8bb8-4a40-82a4-759f9efe702e",
   "metadata": {
    "tags": []
   },
   "outputs": [],
   "source": [
    "# Creating 'data' folder\n",
    "if not os.path.exists('data'):\n",
    "    os.mkdir('data')\n",
    "\n",
    "if not os.path.exists('code'):\n",
    "    os.mkdir('code')"
   ]
  },
  {
   "cell_type": "code",
   "execution_count": null,
   "id": "d3c67682-85b0-47e7-bc6c-25c24f3b7f69",
   "metadata": {
    "tags": []
   },
   "outputs": [],
   "source": [
    "load_dotenv()"
   ]
  },
  {
   "cell_type": "code",
   "execution_count": null,
   "id": "52c1d2cc-a4ae-4ee5-892f-d43fa44a07a4",
   "metadata": {
    "tags": []
   },
   "outputs": [],
   "source": [
    "# Creating credentials to use the Praw API\n",
    "client_id = os.getenv('CLIENT_ID')\n",
    "client_secret = os.getenv('CLIENT_SECRET')\n",
    "username = os.getenv('USERNAME')\n",
    "password = os.getenv('PASSWORD')\n",
    "\n",
    "reddit = praw.Reddit(\n",
    "    client_id=client_id,\n",
    "    client_secret=client_secret,\n",
    "    user_agent='Python Project 3',\n",
    "    username=username,\n",
    "    password=password\n",
    ")\n",
    "\n",
    "onion = reddit.subreddit('TheOnion')\n",
    "\n",
    "onion.display_name"
   ]
  },
  {
   "cell_type": "code",
   "execution_count": null,
   "id": "aa3c2b47-3c20-4d59-be1b-40711a8ff762",
   "metadata": {
    "tags": []
   },
   "outputs": [],
   "source": [
    "# Scrapping Data, creating data frame, saving dataframe\n",
    "onion_posts = onion.new(limit=1000)\n",
    "\n",
    "data = []\n",
    "for post in onion_posts:\n",
    "    data.append([post.created_utc, post.title, post.selftext, post.subreddit])\n",
    "\n",
    "# Turn into a dataframe\n",
    "onion_df = pd.DataFrame(data, columns = ['created_utc', 'title', 'self_text', 'subreddit'])\n",
    "onion_df.head()\n",
    "\n",
    "onion_df.to_csv(f'data/{now}_onion.csv', index=False)"
   ]
  },
  {
   "cell_type": "code",
   "execution_count": null,
   "id": "4595eb80-60e1-4f34-938e-86445561b0dc",
   "metadata": {
    "tags": []
   },
   "outputs": [],
   "source": [
    "# Scrapping Data, creating data frame, saving dataframe\n",
    "news = reddit.subreddit('worldnews')\n",
    "news_posts = news.new(limit=1000)\n",
    "\n",
    "data_news = []\n",
    "for post in news_posts:\n",
    "    data_news.append([post.created_utc, post.title, post.selftext, post.subreddit])\n",
    "\n",
    "news_df = pd.DataFrame(data_news, columns = ['created_utc', 'title', 'self_text', 'subreddit'])\n",
    "news_df.head()\n",
    "\n",
    "news_df.to_csv(f'data/{now}_news.csv', index=False)"
   ]
  },
  {
   "cell_type": "code",
   "execution_count": null,
   "id": "0825cc17-955d-413c-8294-4b1661f523b3",
   "metadata": {},
   "outputs": [],
   "source": []
  }
 ],
 "metadata": {
  "kernelspec": {
   "display_name": "Python 3 (ipykernel)",
   "language": "python",
   "name": "python3"
  },
  "language_info": {
   "codemirror_mode": {
    "name": "ipython",
    "version": 3
   },
   "file_extension": ".py",
   "mimetype": "text/x-python",
   "name": "python",
   "nbconvert_exporter": "python",
   "pygments_lexer": "ipython3",
   "version": "3.11.7"
  }
 },
 "nbformat": 4,
 "nbformat_minor": 5
}
